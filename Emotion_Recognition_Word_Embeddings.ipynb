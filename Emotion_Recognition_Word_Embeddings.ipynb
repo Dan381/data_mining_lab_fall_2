{
 "cells": [
  {
   "cell_type": "markdown",
   "metadata": {},
   "source": [
    "### Word Embeddings for Text Classification (Emotion Recognition)\n",
    "\n",
    "**Task:** Classify text data into different emotions using word embedding and other deep information retrieval approaches.\n",
    "\n",
    "**Github Repo:** [LINK](https://github.com/omarsar/data_mining_lab_fall_2)\n",
    "\n",
    "**Dataset: ** [SemEval 2017 Task](https://competitions.codalab.org/competitions/16380)"
   ]
  },
  {
   "cell_type": "markdown",
   "metadata": {},
   "source": [
    "---"
   ]
  },
  {
   "cell_type": "markdown",
   "metadata": {},
   "source": [
    "### Requirements:\n",
    "\n",
    "#### Software:\n",
    "------------------\n",
    "\n",
    "* Python 3 (coding will be done strictly using Python)\n",
    "* Anaconda Environment (recommended but not mandatory) (https://www.continuum.io/downloads)\n",
    "* Jupyter (http://jupyter.org/)\n",
    "* Google's word2vec (Download the file... warning! it is really huge)(https://drive.google.com/file/d/0B7XkCwpI5KDYNlNUTTlSS21pQmM/edit?usp=sharing)\n",
    "* Gensim (https://radimrehurek.com/gensim/)\n",
    "* Scikit Learn (http://scikit-learn.org/stable/) (get the latest version)\n",
    "* Pandas (http://pandas.pydata.org/)\n",
    "* Matplotlib (https://matplotlib.org/)\n",
    "* NLTK (for stopwords) (http://www.nltk.org/)\n",
    "\n",
    "#### Computing Resources:\n",
    "-------------------\n",
    "* Operating System: Preferably Linux or MacOS (Windows break but you can try it out)\n",
    "* RAM: 4GB \n",
    "* Disk Space: 8GB (mostly to store word embeddings)"
   ]
  },
  {
   "cell_type": "markdown",
   "metadata": {},
   "source": [
    "---"
   ]
  },
  {
   "cell_type": "code",
   "execution_count": 1,
   "metadata": {},
   "outputs": [],
   "source": [
    "%load_ext autoreload\n",
    "%autoreload 2"
   ]
  },
  {
   "cell_type": "code",
   "execution_count": 2,
   "metadata": {},
   "outputs": [
    {
     "name": "stderr",
     "output_type": "stream",
     "text": [
      "2017-11-19 21:47:52,626 : INFO : 'pattern' package not found; tag filters are not available for English\n",
      "/home/ellfae/anaconda3/envs/tensorflow/lib/python3.6/site-packages/sklearn/cross_validation.py:44: DeprecationWarning: This module was deprecated in version 0.18 in favor of the model_selection module into which all the refactored classes and functions are moved. Also note that the interface of the new CV iterators are different from that of this module. This module will be removed in 0.20.\n",
      "  \"This module will be removed in 0.20.\", DeprecationWarning)\n"
     ]
    }
   ],
   "source": [
    "import logging\n",
    "logging.root.handlers = []  # Jupyter messes up logging so needs a reset\n",
    "logging.basicConfig(format='%(asctime)s : %(levelname)s : %(message)s', level=logging.INFO)\n",
    "from smart_open import smart_open\n",
    "import pandas as pd\n",
    "import numpy as np\n",
    "from numpy import random\n",
    "import gensim\n",
    "import nltk\n",
    "from sklearn.cross_validation import train_test_split\n",
    "from sklearn import linear_model\n",
    "from sklearn.feature_extraction.text import CountVectorizer, TfidfVectorizer\n",
    "from sklearn.metrics import accuracy_score, confusion_matrix\n",
    "import matplotlib.pyplot as plt\n",
    "from gensim.models import Word2Vec\n",
    "from sklearn.neighbors import KNeighborsClassifier\n",
    "from sklearn import linear_model\n",
    "from nltk.corpus import stopwords\n",
    "from helpers import *\n",
    "\n",
    "%matplotlib inline"
   ]
  },
  {
   "cell_type": "markdown",
   "metadata": {},
   "source": [
    "### Data Exploration"
   ]
  },
  {
   "cell_type": "code",
   "execution_count": 3,
   "metadata": {},
   "outputs": [],
   "source": [
    "### train data\n",
    "anger_train = pd.read_csv(\"data/semeval/train/anger-ratings-0to1.train.txt\",\n",
    "                         sep=\"\\t\", header=None, names=[\"id\", \"text\", \"emotion\", \"intensity\"])\n",
    "sadness_train = pd.read_csv(\"data/semeval/train/sadness-ratings-0to1.train.txt\",\n",
    "                         sep=\"\\t\", header=None, names=[\"id\", \"text\", \"emotion\", \"intensity\"])\n",
    "fear_train = pd.read_csv(\"data/semeval/train/fear-ratings-0to1.train.txt\",\n",
    "                         sep=\"\\t\", header=None, names=[\"id\", \"text\", \"emotion\", \"intensity\"])\n",
    "joy_train = pd.read_csv(\"data/semeval/train/joy-ratings-0to1.train.txt\",\n",
    "                         sep=\"\\t\", header=None, names=[\"id\", \"text\", \"emotion\", \"intensity\"])\n",
    "train_data = pd.concat([anger_train, fear_train, joy_train, sadness_train])\n",
    "\n",
    "### test data\n",
    "anger_test = pd.read_csv(\"data/semeval/dev/anger-ratings-0to1.dev.gold.txt\",\n",
    "                         sep=\"\\t\", header=None, names=[\"id\", \"text\", \"emotion\", \"intensity\"])\n",
    "sadness_test = pd.read_csv(\"data/semeval/dev/sadness-ratings-0to1.dev.gold.txt\",\n",
    "                         sep=\"\\t\", header=None, names=[\"id\", \"text\", \"emotion\", \"intensity\"])\n",
    "fear_test = pd.read_csv(\"data/semeval/dev/fear-ratings-0to1.dev.gold.txt\",\n",
    "                         sep=\"\\t\", header=None, names=[\"id\", \"text\", \"emotion\", \"intensity\"])\n",
    "joy_test = pd.read_csv(\"data/semeval/dev/joy-ratings-0to1.dev.gold.txt\",\n",
    "                         sep=\"\\t\", header=None, names=[\"id\", \"text\", \"emotion\", \"intensity\"])\n",
    "test_data = pd.concat([anger_test, fear_test, joy_test, sadness_test])"
   ]
  },
  {
   "cell_type": "code",
   "execution_count": 5,
   "metadata": {},
   "outputs": [],
   "source": [
    "# shuffle dataset\n",
    "train_data = train_data.sample(frac=1)\n",
    "test_data = test_data.sample(frac=1)"
   ]
  },
  {
   "cell_type": "code",
   "execution_count": 6,
   "metadata": {},
   "outputs": [
    {
     "data": {
      "text/html": [
       "<div>\n",
       "<style>\n",
       "    .dataframe thead tr:only-child th {\n",
       "        text-align: right;\n",
       "    }\n",
       "\n",
       "    .dataframe thead th {\n",
       "        text-align: left;\n",
       "    }\n",
       "\n",
       "    .dataframe tbody tr th {\n",
       "        vertical-align: top;\n",
       "    }\n",
       "</style>\n",
       "<table border=\"1\" class=\"dataframe\">\n",
       "  <thead>\n",
       "    <tr style=\"text-align: right;\">\n",
       "      <th></th>\n",
       "      <th>id</th>\n",
       "      <th>text</th>\n",
       "      <th>emotion</th>\n",
       "      <th>intensity</th>\n",
       "    </tr>\n",
       "  </thead>\n",
       "  <tbody>\n",
       "    <tr>\n",
       "      <th>617</th>\n",
       "      <td>20617</td>\n",
       "      <td>Recording some more #FNAF and had to FaceTime ...</td>\n",
       "      <td>fear</td>\n",
       "      <td>0.458</td>\n",
       "    </tr>\n",
       "    <tr>\n",
       "      <th>992</th>\n",
       "      <td>20992</td>\n",
       "      <td>@darwinwatersons @pennyfitzger31 @gumballwatte...</td>\n",
       "      <td>fear</td>\n",
       "      <td>0.271</td>\n",
       "    </tr>\n",
       "    <tr>\n",
       "      <th>144</th>\n",
       "      <td>20144</td>\n",
       "      <td>@Budget  car rental you have made realize why ...</td>\n",
       "      <td>fear</td>\n",
       "      <td>0.729</td>\n",
       "    </tr>\n",
       "    <tr>\n",
       "      <th>224</th>\n",
       "      <td>20224</td>\n",
       "      <td>Retweeted Dr. Rand Paul (@RandPaul):\\n\\nStop f...</td>\n",
       "      <td>fear</td>\n",
       "      <td>0.667</td>\n",
       "    </tr>\n",
       "    <tr>\n",
       "      <th>385</th>\n",
       "      <td>40385</td>\n",
       "      <td>@SimonSSSJ123 @EllieG10853 @Onision @Eugenia_C...</td>\n",
       "      <td>sadness</td>\n",
       "      <td>0.485</td>\n",
       "    </tr>\n",
       "    <tr>\n",
       "      <th>574</th>\n",
       "      <td>10574</td>\n",
       "      <td>@MMASOCCERFAN @outmagazine No offense but the ...</td>\n",
       "      <td>anger</td>\n",
       "      <td>0.417</td>\n",
       "    </tr>\n",
       "    <tr>\n",
       "      <th>281</th>\n",
       "      <td>10281</td>\n",
       "      <td>Have wee pop socks on and they KEEP FALLING OF...</td>\n",
       "      <td>anger</td>\n",
       "      <td>0.562</td>\n",
       "    </tr>\n",
       "    <tr>\n",
       "      <th>579</th>\n",
       "      <td>30579</td>\n",
       "      <td>@Devilligan It's a beautifully sincere balanci...</td>\n",
       "      <td>joy</td>\n",
       "      <td>0.375</td>\n",
       "    </tr>\n",
       "    <tr>\n",
       "      <th>609</th>\n",
       "      <td>10609</td>\n",
       "      <td>I've been wanting salty fries from McDonald's ...</td>\n",
       "      <td>anger</td>\n",
       "      <td>0.396</td>\n",
       "    </tr>\n",
       "    <tr>\n",
       "      <th>231</th>\n",
       "      <td>30231</td>\n",
       "      <td>Ryan Gosling and Eva Mendes finally  ; B joyfu...</td>\n",
       "      <td>joy</td>\n",
       "      <td>0.620</td>\n",
       "    </tr>\n",
       "  </tbody>\n",
       "</table>\n",
       "</div>"
      ],
      "text/plain": [
       "        id                                               text  emotion  \\\n",
       "617  20617  Recording some more #FNAF and had to FaceTime ...     fear   \n",
       "992  20992  @darwinwatersons @pennyfitzger31 @gumballwatte...     fear   \n",
       "144  20144  @Budget  car rental you have made realize why ...     fear   \n",
       "224  20224  Retweeted Dr. Rand Paul (@RandPaul):\\n\\nStop f...     fear   \n",
       "385  40385  @SimonSSSJ123 @EllieG10853 @Onision @Eugenia_C...  sadness   \n",
       "574  10574  @MMASOCCERFAN @outmagazine No offense but the ...    anger   \n",
       "281  10281  Have wee pop socks on and they KEEP FALLING OF...    anger   \n",
       "579  30579  @Devilligan It's a beautifully sincere balanci...      joy   \n",
       "609  10609  I've been wanting salty fries from McDonald's ...    anger   \n",
       "231  30231  Ryan Gosling and Eva Mendes finally  ; B joyfu...      joy   \n",
       "\n",
       "     intensity  \n",
       "617      0.458  \n",
       "992      0.271  \n",
       "144      0.729  \n",
       "224      0.667  \n",
       "385      0.485  \n",
       "574      0.417  \n",
       "281      0.562  \n",
       "579      0.375  \n",
       "609      0.396  \n",
       "231      0.620  "
      ]
     },
     "execution_count": 6,
     "metadata": {},
     "output_type": "execute_result"
    }
   ],
   "source": [
    "train_data[0:10]"
   ]
  },
  {
   "cell_type": "code",
   "execution_count": 8,
   "metadata": {},
   "outputs": [
    {
     "data": {
      "text/plain": [
       "58792"
      ]
     },
     "execution_count": 8,
     "metadata": {},
     "output_type": "execute_result"
    }
   ],
   "source": [
    "### Count the number of words in training dataset\n",
    "train_data['text'].apply(lambda x: len(x.split(' '))).sum()"
   ]
  },
  {
   "cell_type": "markdown",
   "metadata": {},
   "source": [
    "**Note:** Usually at least 500K words are suggested to train a word2vec model, so performance may not be the best here."
   ]
  },
  {
   "cell_type": "markdown",
   "metadata": {},
   "source": [
    "**Exercise 1:** Plot word frequency in both train and test dataset. (Hint: refer to DM lab 1)"
   ]
  },
  {
   "cell_type": "code",
   "execution_count": 11,
   "metadata": {},
   "outputs": [
    {
     "data": {
      "text/plain": [
       "<matplotlib.axes._subplots.AxesSubplot at 0x7fed1a136cf8>"
      ]
     },
     "execution_count": 11,
     "metadata": {},
     "output_type": "execute_result"
    },
    {
     "data": {
      "image/png": "[encoded data removed]",
      "text/plain": [
       "<matplotlib.figure.Figure at 0x7fed1a0e45f8>"
      ]
     },
     "metadata": {},
     "output_type": "display_data"
    }
   ],
   "source": [
    "### classes / targets\n",
    "my_tags = ['sadness', 'fear', 'joy', 'anger']\n",
    "train_data.emotion.value_counts().plot(kind=\"bar\", rot=0)"
   ]
  },
  {
   "cell_type": "markdown",
   "metadata": {},
   "source": [
    "**Exercise:** Is this considered an imbalanced dataset? Try to perform some more data exploration and statistical inference as done in lab session 1. "
   ]
  },
  {
   "cell_type": "code",
   "execution_count": 12,
   "metadata": {},
   "outputs": [
    {
     "data": {
      "text/plain": [
       "<matplotlib.axes._subplots.AxesSubplot at 0x7fed19feb320>"
      ]
     },
     "execution_count": 12,
     "metadata": {},
     "output_type": "execute_result"
    },
    {
     "data": {
      "image/png": "[encoded data removed]",
      "text/plain": [
       "<matplotlib.figure.Figure at 0x7fed19ff0ac8>"
      ]
     },
     "metadata": {},
     "output_type": "display_data"
    }
   ],
   "source": [
    "test_data.emotion.value_counts().plot(kind=\"bar\", rot=0)"
   ]
  },
  {
   "cell_type": "markdown",
   "metadata": {},
   "source": [
    "---\n",
    "### Train Naive Models (Baselines)\n",
    "- Bag of words\n",
    "- N-grams\n",
    "- TF-IDF"
   ]
  },
  {
   "cell_type": "markdown",
   "metadata": {},
   "source": [
    "#### Bag of Words\n",
    "Using scikit-learn CountVectorizer perform word frequency and use these as features to train a model."
   ]
  },
  {
   "cell_type": "code",
   "execution_count": 13,
   "metadata": {},
   "outputs": [],
   "source": [
    "# build analyzers\n",
    "count_vectorizer = CountVectorizer(\n",
    "    analyzer=\"word\", tokenizer=nltk.word_tokenize,\n",
    "    preprocessor=None, stop_words='english', max_features=3000) \n",
    "\n",
    "# apply analyzer\n",
    "train_data_features = count_vectorizer.fit_transform(train_data['text'])"
   ]
  },
  {
   "cell_type": "code",
   "execution_count": 17,
   "metadata": {},
   "outputs": [
    {
     "data": {
      "text/plain": [
       "array([[0, 2, 0, ..., 0, 0, 0],\n",
       "       [1, 0, 0, ..., 0, 0, 0],\n",
       "       [6, 2, 0, ..., 0, 0, 0],\n",
       "       ..., \n",
       "       [1, 3, 0, ..., 0, 0, 0],\n",
       "       [0, 0, 0, ..., 0, 0, 0],\n",
       "       [1, 2, 0, ..., 0, 0, 0]], dtype=int64)"
      ]
     },
     "execution_count": 17,
     "metadata": {},
     "output_type": "execute_result"
    }
   ],
   "source": [
    "train_data_features.toarray()"
   ]
  },
  {
   "cell_type": "code",
   "execution_count": 18,
   "metadata": {},
   "outputs": [],
   "source": [
    "logreg_model = linear_model.LogisticRegression(n_jobs=1, C=1e5)\n",
    "logreg_model = logreg_model.fit(train_data_features, train_data['emotion'])"
   ]
  },
  {
   "cell_type": "code",
   "execution_count": 21,
   "metadata": {},
   "outputs": [
    {
     "data": {
      "text/plain": [
       "['af',\n",
       " 'affair',\n",
       " 'affliction',\n",
       " 'afford',\n",
       " 'afraid',\n",
       " 'afternoon',\n",
       " 'age',\n",
       " 'agent',\n",
       " 'ages',\n",
       " 'aggravate']"
      ]
     },
     "execution_count": 21,
     "metadata": {},
     "output_type": "execute_result"
    }
   ],
   "source": [
    "# observe some features\n",
    "count_vectorizer.get_feature_names()[100:110]"
   ]
  },
  {
   "cell_type": "code",
   "execution_count": 22,
   "metadata": {},
   "outputs": [
    {
     "name": "stdout",
     "output_type": "stream",
     "text": [
      "accuracy 0.734870317003\n",
      "confusion matrix\n",
      " [[60  6  3 15]\n",
      " [10 80  6 14]\n",
      " [ 5  9 65  0]\n",
      " [ 5 15  4 50]]\n",
      "(row=expected, col=predicted)\n"
     ]
    },
    {
     "data": {
      "image/png": "[encoded data removed]",
      "text/plain": [
       "<matplotlib.figure.Figure at 0x7fed19a97400>"
      ]
     },
     "metadata": {},
     "output_type": "display_data"
    }
   ],
   "source": [
    "word_embeddings.predict(count_vectorizer, logreg_model, test_data, my_tags)"
   ]
  },
  {
   "cell_type": "code",
   "execution_count": 23,
   "metadata": {},
   "outputs": [],
   "source": [
    "# words for the emotion of anger\n",
    "anger_tag_id = word_embeddings.get_tag_index(my_tags, \"anger\") \n",
    "anger_words = word_embeddings.most_influential_words(logreg_model, count_vectorizer, \\\n",
    "                                                      anger_tag_id, 3000)\n",
    "anger_words = pd.DataFrame(anger_words)"
   ]
  },
  {
   "cell_type": "code",
   "execution_count": 24,
   "metadata": {},
   "outputs": [
    {
     "data": {
      "text/html": [
       "<div>\n",
       "<style>\n",
       "    .dataframe thead tr:only-child th {\n",
       "        text-align: right;\n",
       "    }\n",
       "\n",
       "    .dataframe thead th {\n",
       "        text-align: left;\n",
       "    }\n",
       "\n",
       "    .dataframe tbody tr th {\n",
       "        vertical-align: top;\n",
       "    }\n",
       "</style>\n",
       "<table border=\"1\" class=\"dataframe\">\n",
       "  <thead>\n",
       "    <tr style=\"text-align: right;\">\n",
       "      <th></th>\n",
       "      <th>0</th>\n",
       "      <th>1</th>\n",
       "    </tr>\n",
       "  </thead>\n",
       "  <tbody>\n",
       "    <tr>\n",
       "      <th>0</th>\n",
       "      <td>sober</td>\n",
       "      <td>32.652855</td>\n",
       "    </tr>\n",
       "    <tr>\n",
       "      <th>1</th>\n",
       "      <td>grim</td>\n",
       "      <td>29.568752</td>\n",
       "    </tr>\n",
       "    <tr>\n",
       "      <th>2</th>\n",
       "      <td>spent</td>\n",
       "      <td>29.535102</td>\n",
       "    </tr>\n",
       "    <tr>\n",
       "      <th>3</th>\n",
       "      <td>stayed</td>\n",
       "      <td>28.740246</td>\n",
       "    </tr>\n",
       "    <tr>\n",
       "      <th>4</th>\n",
       "      <td>sunk</td>\n",
       "      <td>28.026766</td>\n",
       "    </tr>\n",
       "    <tr>\n",
       "      <th>5</th>\n",
       "      <td>pine</td>\n",
       "      <td>27.139517</td>\n",
       "    </tr>\n",
       "    <tr>\n",
       "      <th>6</th>\n",
       "      <td>depress</td>\n",
       "      <td>26.822598</td>\n",
       "    </tr>\n",
       "    <tr>\n",
       "      <th>7</th>\n",
       "      <td>depression</td>\n",
       "      <td>26.498302</td>\n",
       "    </tr>\n",
       "    <tr>\n",
       "      <th>8</th>\n",
       "      <td>unhappy</td>\n",
       "      <td>26.318313</td>\n",
       "    </tr>\n",
       "    <tr>\n",
       "      <th>9</th>\n",
       "      <td>sadly</td>\n",
       "      <td>26.235318</td>\n",
       "    </tr>\n",
       "  </tbody>\n",
       "</table>\n",
       "</div>"
      ],
      "text/plain": [
       "            0          1\n",
       "0       sober  32.652855\n",
       "1        grim  29.568752\n",
       "2       spent  29.535102\n",
       "3      stayed  28.740246\n",
       "4        sunk  28.026766\n",
       "5        pine  27.139517\n",
       "6     depress  26.822598\n",
       "7  depression  26.498302\n",
       "8     unhappy  26.318313\n",
       "9       sadly  26.235318"
      ]
     },
     "execution_count": 24,
     "metadata": {},
     "output_type": "execute_result"
    }
   ],
   "source": [
    "anger_words[:10]"
   ]
  },
  {
   "cell_type": "code",
   "execution_count": 25,
   "metadata": {},
   "outputs": [],
   "source": [
    "# words for the emotion of fear\n",
    "fear_tag_id = word_embeddings.get_tag_index(my_tags, \"fear\") \n",
    "fear_words = word_embeddings.most_influential_words(logreg_model, count_vectorizer, \\\n",
    "                                                      fear_tag_id, 3000)\n",
    "fear_words = pd.DataFrame(fear_words)"
   ]
  },
  {
   "cell_type": "code",
   "execution_count": 26,
   "metadata": {},
   "outputs": [
    {
     "data": {
      "text/html": [
       "<div>\n",
       "<style>\n",
       "    .dataframe thead tr:only-child th {\n",
       "        text-align: right;\n",
       "    }\n",
       "\n",
       "    .dataframe thead th {\n",
       "        text-align: left;\n",
       "    }\n",
       "\n",
       "    .dataframe tbody tr th {\n",
       "        vertical-align: top;\n",
       "    }\n",
       "</style>\n",
       "<table border=\"1\" class=\"dataframe\">\n",
       "  <thead>\n",
       "    <tr style=\"text-align: right;\">\n",
       "      <th></th>\n",
       "      <th>0</th>\n",
       "      <th>1</th>\n",
       "    </tr>\n",
       "  </thead>\n",
       "  <tbody>\n",
       "    <tr>\n",
       "      <th>0</th>\n",
       "      <td>horror</td>\n",
       "      <td>29.322370</td>\n",
       "    </tr>\n",
       "    <tr>\n",
       "      <th>1</th>\n",
       "      <td>concern</td>\n",
       "      <td>28.709943</td>\n",
       "    </tr>\n",
       "    <tr>\n",
       "      <th>2</th>\n",
       "      <td>flirting</td>\n",
       "      <td>27.319602</td>\n",
       "    </tr>\n",
       "    <tr>\n",
       "      <th>3</th>\n",
       "      <td>shake</td>\n",
       "      <td>25.605281</td>\n",
       "    </tr>\n",
       "    <tr>\n",
       "      <th>4</th>\n",
       "      <td>terrorism</td>\n",
       "      <td>25.560661</td>\n",
       "    </tr>\n",
       "    <tr>\n",
       "      <th>5</th>\n",
       "      <td>nervous</td>\n",
       "      <td>25.427409</td>\n",
       "    </tr>\n",
       "    <tr>\n",
       "      <th>6</th>\n",
       "      <td>horrific</td>\n",
       "      <td>23.865957</td>\n",
       "    </tr>\n",
       "    <tr>\n",
       "      <th>7</th>\n",
       "      <td>bully</td>\n",
       "      <td>23.771854</td>\n",
       "    </tr>\n",
       "    <tr>\n",
       "      <th>8</th>\n",
       "      <td>jimmy</td>\n",
       "      <td>23.579379</td>\n",
       "    </tr>\n",
       "    <tr>\n",
       "      <th>9</th>\n",
       "      <td>rooney</td>\n",
       "      <td>23.255897</td>\n",
       "    </tr>\n",
       "  </tbody>\n",
       "</table>\n",
       "</div>"
      ],
      "text/plain": [
       "           0          1\n",
       "0     horror  29.322370\n",
       "1    concern  28.709943\n",
       "2   flirting  27.319602\n",
       "3      shake  25.605281\n",
       "4  terrorism  25.560661\n",
       "5    nervous  25.427409\n",
       "6   horrific  23.865957\n",
       "7      bully  23.771854\n",
       "8      jimmy  23.579379\n",
       "9     rooney  23.255897"
      ]
     },
     "execution_count": 26,
     "metadata": {},
     "output_type": "execute_result"
    }
   ],
   "source": [
    "fear_words[:10]"
   ]
  },
  {
   "cell_type": "code",
   "execution_count": 27,
   "metadata": {},
   "outputs": [
    {
     "data": {
      "text/plain": [
       "[[['rich', 27],\n",
       "  ['idea', 208],\n",
       "  ['😭', 283],\n",
       "  ['cold', 332],\n",
       "  ['finish', 353],\n",
       "  ['honestly', 360],\n",
       "  ['plenty', 375],\n",
       "  ['bake', 383],\n",
       "  ['childhood', 405],\n",
       "  ['sue', 447],\n",
       "  ['definitely', 475],\n",
       "  ['father', 480],\n",
       "  ['birth', 483],\n",
       "  ['red', 488]],\n",
       " 14]"
      ]
     },
     "execution_count": 27,
     "metadata": {},
     "output_type": "execute_result"
    }
   ],
   "source": [
    "# check overlap of words and their index\n",
    "word_embeddings.check_word_overlap(anger_words[:500][0], fear_words[:500][0])"
   ]
  },
  {
   "cell_type": "markdown",
   "metadata": {},
   "source": [
    "You may notice that even though the words overlap some of them are not even related to any of the emotions, therefore, we can improve this model. What would happen if we just remove the overlapping words?"
   ]
  },
  {
   "cell_type": "markdown",
   "metadata": {},
   "source": [
    "#### Character N-grams\n",
    "A character n-gram is a chunk of a document of length n. It is a poor man's tokenizer but sometimes works well. The parameter n depends on language and the corpus. We choose length between 3 and 6 characters and to only focus on 3k most popular ones. 3K is a fair comparison since the previous bag of words model was this size as well."
   ]
  },
  {
   "cell_type": "code",
   "execution_count": 28,
   "metadata": {},
   "outputs": [],
   "source": [
    "n_gram_vectorizer = CountVectorizer(\n",
    "    analyzer=\"char\",\n",
    "    ngram_range=([2,5]),\n",
    "    tokenizer=None,    \n",
    "    preprocessor=None,                               \n",
    "    max_features=3000) \n",
    "\n",
    "charn_model = linear_model.LogisticRegression(n_jobs=1, C=1e5)\n",
    "\n",
    "train_data_features = n_gram_vectorizer.fit_transform(train_data['text'])\n",
    "\n",
    "charn_model = charn_model.fit(train_data_features, train_data['emotion'])"
   ]
  },
  {
   "cell_type": "code",
   "execution_count": 29,
   "metadata": {},
   "outputs": [
    {
     "data": {
      "text/plain": [
       "[' bec',\n",
       " ' beca',\n",
       " ' bee',\n",
       " ' been',\n",
       " ' bei',\n",
       " ' bein',\n",
       " ' bet',\n",
       " ' bi',\n",
       " ' bl',\n",
       " ' bla']"
      ]
     },
     "execution_count": 29,
     "metadata": {},
     "output_type": "execute_result"
    }
   ],
   "source": [
    "### observe some features\n",
    "n_gram_vectorizer.get_feature_names()[100:110]"
   ]
  },
  {
   "cell_type": "code",
   "execution_count": 30,
   "metadata": {},
   "outputs": [
    {
     "name": "stdout",
     "output_type": "stream",
     "text": [
      "accuracy 0.662824207493\n",
      "confusion matrix\n",
      " [[58  4  9 13]\n",
      " [14 71  6 19]\n",
      " [10 15 49  5]\n",
      " [ 7  9  6 52]]\n",
      "(row=expected, col=predicted)\n"
     ]
    },
    {
     "data": {
      "image/png": "[encoded data removed]",
      "text/plain": [
       "<matplotlib.figure.Figure at 0x7fed0b1760f0>"
      ]
     },
     "metadata": {},
     "output_type": "display_data"
    }
   ],
   "source": [
    "word_embeddings.predict(n_gram_vectorizer, charn_model, test_data, my_tags)"
   ]
  },
  {
   "cell_type": "markdown",
   "metadata": {},
   "source": [
    "You can notice that the char n-gram model doesn't perform as well as the bag of words model."
   ]
  },
  {
   "cell_type": "markdown",
   "metadata": {},
   "source": [
    "**Exercise:** Try to improve the model by removing stopwords; or try other techniques you have learned so far."
   ]
  },
  {
   "cell_type": "markdown",
   "metadata": {},
   "source": [
    "#### TF-IDF\n",
    "Term Frequency - Inverse Document Frequency is useful to rank importance of words to documents"
   ]
  },
  {
   "cell_type": "code",
   "execution_count": 31,
   "metadata": {},
   "outputs": [],
   "source": [
    "tf_vect = TfidfVectorizer(\n",
    "    min_df=2, tokenizer=nltk.word_tokenize,\n",
    "    preprocessor=None, stop_words='english')\n",
    "train_data_features = tf_vect.fit_transform(train_data['text'])\n",
    "\n",
    "tfidf_model = linear_model.LogisticRegression(n_jobs=1, C=1e5)\n",
    "tfidf_model = tfidf_model.fit(train_data_features, train_data['emotion'])"
   ]
  },
  {
   "cell_type": "code",
   "execution_count": 32,
   "metadata": {},
   "outputs": [
    {
     "data": {
      "text/plain": [
       "['17',\n",
       " '18:41',\n",
       " '1nataliemaines',\n",
       " '1st',\n",
       " '2',\n",
       " '2-3',\n",
       " '20',\n",
       " '2014',\n",
       " '2015.',\n",
       " '2016']"
      ]
     },
     "execution_count": 32,
     "metadata": {},
     "output_type": "execute_result"
    }
   ],
   "source": [
    "tf_vect.get_feature_names()[100:110]"
   ]
  },
  {
   "cell_type": "code",
   "execution_count": 33,
   "metadata": {},
   "outputs": [
    {
     "name": "stdout",
     "output_type": "stream",
     "text": [
      "accuracy 0.798270893372\n",
      "confusion matrix\n",
      " [[62  7  3 12]\n",
      " [ 6 89  5 10]\n",
      " [ 4  4 69  2]\n",
      " [ 6  8  3 57]]\n",
      "(row=expected, col=predicted)\n"
     ]
    },
    {
     "data": {
      "image/png": "[encoded data removed]",
      "text/plain": [
       "<matplotlib.figure.Figure at 0x7fed0b6c4ac8>"
      ]
     },
     "metadata": {},
     "output_type": "display_data"
    }
   ],
   "source": [
    "word_embeddings.predict(tf_vect, tfidf_model, test_data, my_tags)"
   ]
  },
  {
   "cell_type": "markdown",
   "metadata": {},
   "source": [
    "Let us perform some further analysis on the TF-IDF model."
   ]
  },
  {
   "cell_type": "code",
   "execution_count": 34,
   "metadata": {},
   "outputs": [
    {
     "data": {
      "text/plain": [
       "[['unhappy', 49.125246254034337],\n",
       " ['sober', 48.022596096955574],\n",
       " ['lost', 46.845720591869181],\n",
       " ['pine', 45.987331531830989],\n",
       " ['blues', 45.952139717565011],\n",
       " ['grim', 45.896981357209285],\n",
       " ['stayed', 45.417541326629191],\n",
       " ['dark', 44.438956045973413],\n",
       " ['dull', 43.812737961256708],\n",
       " ['depressing', 43.002286472820778]]"
      ]
     },
     "execution_count": 34,
     "metadata": {},
     "output_type": "execute_result"
    }
   ],
   "source": [
    "# words for the anger emotion\n",
    "anger_tag_id = word_embeddings.get_tag_index(my_tags, \"anger\")\n",
    "anger_words = word_embeddings.most_influential_words(tfidf_model, tf_vect, anger_tag_id, 3000)\n",
    "anger_words[0:10]"
   ]
  },
  {
   "cell_type": "code",
   "execution_count": 35,
   "metadata": {},
   "outputs": [
    {
     "data": {
      "text/plain": [
       "[['elated', 49.435472553063647],\n",
       " ['pleasing', 42.330530868032966],\n",
       " ['playful', 42.251062577888234],\n",
       " ['animated', 41.807040398506309],\n",
       " ['joyous', 40.796975736039876],\n",
       " ['rejoicing', 40.583376648348029],\n",
       " ['optimism', 39.74570894231055],\n",
       " ['hilarious', 39.619336751035114],\n",
       " ['cheerfully', 38.552804700392308],\n",
       " ['cheering', 38.203363194562726]]"
      ]
     },
     "execution_count": 35,
     "metadata": {},
     "output_type": "execute_result"
    }
   ],
   "source": [
    "# words for the joy\n",
    "joy_tag_id = word_embeddings.get_tag_index(my_tags, \"joy\")\n",
    "joy_words = word_embeddings.most_influential_words(tfidf_model, tf_vect, joy_tag_id, 3000)\n",
    "joy_words[0:10]"
   ]
  },
  {
   "cell_type": "markdown",
   "metadata": {},
   "source": [
    "**Exercise:** Head to scikit-learn webiste and learn how to use different parameters for the TF-IDF vectorizer, such as modifying the ngram_range. It might improve the performance of the classifier."
   ]
  },
  {
   "cell_type": "markdown",
   "metadata": {},
   "source": [
    "---"
   ]
  },
  {
   "cell_type": "markdown",
   "metadata": {},
   "source": [
    "### Averaging Word Vectors (word2vec model)\n",
    "\n",
    "**SOURCE:** https://code.google.com/archive/p/word2vec/\n",
    "\n",
    "First, we are going to use a pretrained model provided as open source by Google (word2vec)"
   ]
  },
  {
   "cell_type": "code",
   "execution_count": 45,
   "metadata": {},
   "outputs": [
    {
     "name": "stderr",
     "output_type": "stream",
     "text": [
      "2017-11-19 22:38:33,997 : INFO : loading projection weights from data/google_word2vec/GoogleNews-vectors-negative300.bin.gz\n",
      "2017-11-19 22:40:19,543 : INFO : loaded (3000000, 300) matrix from data/google_word2vec/GoogleNews-vectors-negative300.bin.gz\n",
      "2017-11-19 22:40:19,543 : INFO : precomputing L2-norms of word weight vectors\n"
     ]
    }
   ],
   "source": [
    "wv = gensim.models.KeyedVectors.load_word2vec_format(\n",
    "    \"data/google_word2vec/GoogleNews-vectors-negative300.bin.gz\",\n",
    "    binary=True)\n",
    "wv.init_sims(replace=True)"
   ]
  },
  {
   "cell_type": "markdown",
   "metadata": {},
   "source": [
    "**Pre-processing** Here we tokenize both the training and testing datasets before creating the vectors with word2vec. Think of this as a filtering step. In this case words with len(word)<2 are removed."
   ]
  },
  {
   "cell_type": "code",
   "execution_count": 46,
   "metadata": {},
   "outputs": [],
   "source": [
    "test_tokenized = test_data.apply(lambda r: word2vec_helpers.w2v_tokenize_text(r['text']), axis=1).values\n",
    "train_tokenized = train_data.apply(lambda r: word2vec_helpers.w2v_tokenize_text(r['text']), axis=1).values"
   ]
  },
  {
   "cell_type": "code",
   "execution_count": 47,
   "metadata": {},
   "outputs": [
    {
     "data": {
      "text/plain": [
       "array([ list(['Dunno', 'am', 'going', 'to', 'the', 'Yorkshire', 'scare', 'grounds', 'when', 'only', 'lasted', 'minute', 'in', 'the', 'Alton', 'towers', 'one', 'before', 'running', 'out', 'fire', 'exit', 'crying']),\n",
       "       list(['Ananya', 'just', 'grabbed', 'bible', 'opened', 'it', 'started', 'reading', 'and', 'then', 'said', \"'where\", 'do', 'they', 'talk', 'about', 'burning', 'people']),\n",
       "       list(['kayleighmcenany', 'DonaldJTrumpJr', 'Is', 'that', 'really', 'all', 'you', 'can', 'offer', 'for', 'those', 'who', 'sacrifice', 'daily', 'to', 'keep', 'you', 'safe', '...', 'kayleighmcenany']),\n",
       "       list(['incredible', 'that', 'anthony', 'weiner', 'has', 'been', 'caught', 'chasing', 'busty', 'milkmaid', 'across', 'park', 'at', 'double', 'speed', 'while', 'jaunty', 'music', 'plays']),\n",
       "       list(['This', 'is', 'horrible', 'Lewis', 'Dunk', 'has', 'begun', 'networking', 'Neo-Geo', 'with', 'his', 'holiday', 'home', 'in', 'Mexico']),\n",
       "       list(['Just', 'seeing', 'Alex', 'revells', 'face', 'gets', 'me', 'angry']),\n",
       "       list(['harrietemmett', 'great', 'minds', 'think', 'alike']),\n",
       "       list(['CesarSampao', 'thisisbolton', 'do', \"n't\", 'get', 'me', 'started', 'on', 'town', 'centre', 'Used', 'to', 'go', 'every', 'week', '...', 'not', 'been', 'for', '18', 'months']),\n",
       "       list(['Really', '...', '..', 'Jumanji', '...', '.w/', 'The', 'Rock', 'Jack', 'Black', 'and', 'Kevin', 'Hart', '...', 'are', 'you', 'kidding', 'me', 'WTF', 'ThisIsATerribleIdea']),\n",
       "       list(['Gronnhair', 'buryprofs', 'DittoBistro', 'it', 'was', 'indeed', 'lovely', 'and', 'the', 'team', 'were', 'incredibly', 'attentive', 'and', 'on', 'the', 'ball', 'Cheese', 'was', 'lively', 'gesture'])], dtype=object)"
      ]
     },
     "execution_count": 47,
     "metadata": {},
     "output_type": "execute_result"
    }
   ],
   "source": [
    "test_tokenized[0:10]"
   ]
  },
  {
   "cell_type": "markdown",
   "metadata": {},
   "source": [
    "Next, we have to convert the words into a distributed representation (in other words, each token must be converted into its vector representation obtained from word2vec). Since we are using a pretrained word2vec the conversion can be done easily. \n",
    "\n",
    "Now that we have the word embeddings, we can obtain vectors for an entire document, by averaging word vectors. (Warning: very naive approach!)"
   ]
  },
  {
   "cell_type": "markdown",
   "metadata": {},
   "source": [
    "![alt txt](https://docs.google.com/drawings/d/1m1Uod7QU4iSN7J3iqsTU6JRWdGTEJRZ2dA7rZrgNHgA/pub?w=942&h=375)"
   ]
  },
  {
   "cell_type": "code",
   "execution_count": 48,
   "metadata": {},
   "outputs": [],
   "source": [
    "### Here we average the word vectors\n",
    "X_train_word_average = word2vec_helpers.word_averaging_list(wv,train_tokenized)\n",
    "X_test_word_average = word2vec_helpers.word_averaging_list(wv,test_tokenized)"
   ]
  },
  {
   "cell_type": "code",
   "execution_count": 49,
   "metadata": {},
   "outputs": [
    {
     "data": {
      "text/plain": [
       "array([ 0.0828345 , -0.03720188,  0.03113783,  0.09435879, -0.04738354,\n",
       "       -0.02334516,  0.04464549, -0.08764581,  0.05910314,  0.05702304,\n",
       "       -0.0381741 , -0.17588666, -0.00759566, -0.01538563, -0.06418473,\n",
       "        0.0447026 ,  0.10272776,  0.07494403, -0.06186917, -0.07438852,\n",
       "       -0.00160431,  0.09135552,  0.05929718, -0.00096006,  0.03247862,\n",
       "       -0.01421031, -0.03617261,  0.03098794,  0.06477017, -0.03398748,\n",
       "        0.02085624,  0.05060841, -0.05719795, -0.02933487, -0.04135398,\n",
       "       -0.04650778,  0.03750284, -0.04152595,  0.01536915,  0.08942927,\n",
       "        0.09623399, -0.11036112,  0.1455759 , -0.02299988, -0.00287363,\n",
       "        0.05799081, -0.05199031, -0.01896928,  0.08540779,  0.01586382,\n",
       "       -0.02355479,  0.03279874,  0.00465961,  0.03000174, -0.03700826,\n",
       "        0.0488888 , -0.04989709, -0.06193588,  0.06018326, -0.08827129,\n",
       "       -0.02334823,  0.04257724, -0.05347706, -0.04378926, -0.05149174,\n",
       "        0.00481888, -0.04781246,  0.08248097, -0.01080719,  0.06393816,\n",
       "        0.01756501,  0.07793213,  0.07762833,  0.08007104, -0.15161249,\n",
       "       -0.03722691,  0.12395981,  0.06855031,  0.0636224 ,  0.09780615,\n",
       "       -0.0548266 , -0.05845098,  0.04592308, -0.02027553, -0.07172428,\n",
       "       -0.01303808, -0.04026437,  0.13182129, -0.03476157, -0.00912584,\n",
       "        0.03185095,  0.06501495, -0.06281661, -0.03742494, -0.03443837,\n",
       "       -0.0775518 ,  0.05683483,  0.07658903, -0.00182815, -0.02445133,\n",
       "       -0.05789818, -0.10756478, -0.0201588 , -0.01367355, -0.02246436,\n",
       "       -0.00159421, -0.00341015, -0.01681556,  0.06667787, -0.04837777,\n",
       "       -0.07107475,  0.01787926, -0.01537318, -0.03864638,  0.02526326,\n",
       "        0.00769131,  0.0201249 , -0.03280054,  0.04744314,  0.04775037,\n",
       "       -0.11188859,  0.0657398 , -0.07222334,  0.04976749, -0.01304947,\n",
       "       -0.073121  , -0.06879081, -0.0513772 ,  0.00881809, -0.03296001,\n",
       "       -0.06841825, -0.06736603, -0.07046579, -0.01661756, -0.02274008,\n",
       "       -0.03076619,  0.08739944,  0.03017626, -0.00196825,  0.01702739,\n",
       "        0.03925883, -0.05889527,  0.01752211, -0.06921595,  0.00865561,\n",
       "        0.08357184, -0.09631499, -0.0878009 , -0.0602692 , -0.03293969,\n",
       "        0.0819206 ,  0.04106344, -0.06630815,  0.06256788, -0.03175091,\n",
       "        0.06215457, -0.05327656, -0.06572698, -0.04440877,  0.00412845,\n",
       "       -0.0150367 ,  0.03353119,  0.06293762,  0.07193726,  0.00107012,\n",
       "       -0.13672085,  0.04287213, -0.03575428,  0.06815045, -0.05873841,\n",
       "       -0.10887971,  0.00981752, -0.03836062, -0.08378714, -0.06903499,\n",
       "       -0.05881749,  0.09471442, -0.04757425, -0.01046868,  0.04602438,\n",
       "       -0.07361519,  0.01670819,  0.10008384,  0.04938151,  0.02994714,\n",
       "        0.00915309, -0.09731684,  0.00914007,  0.04141181,  0.01284424,\n",
       "        0.01567608,  0.01832188,  0.02425939,  0.00986745, -0.06187043,\n",
       "        0.04872014, -0.00831913, -0.03874445, -0.05126166, -0.12295007,\n",
       "       -0.00791001,  0.02206907, -0.042601  ,  0.02246608,  0.05571443,\n",
       "       -0.03746784, -0.12760188,  0.00159992,  0.06182094, -0.04096721,\n",
       "       -0.00665803,  0.00154519,  0.01717271,  0.01050951, -0.07053998,\n",
       "       -0.00748874,  0.08824413, -0.02599456, -0.12767237, -0.05009941,\n",
       "       -0.00453471,  0.08546905,  0.01298815, -0.02659122,  0.09782809,\n",
       "       -0.07475995,  0.0382194 ,  0.06934613, -0.04686676, -0.00734404,\n",
       "        0.01479908, -0.07444905,  0.01112435, -0.02259457,  0.04467384,\n",
       "        0.02088736, -0.01236321, -0.09502137,  0.03587033,  0.02884967,\n",
       "        0.03337711,  0.02563795,  0.00632766, -0.08291794, -0.02519703,\n",
       "        0.04240022,  0.0151681 ,  0.09008405,  0.00053487,  0.00060616,\n",
       "        0.03134907, -0.00020461,  0.08677844,  0.04045636,  0.04757625,\n",
       "        0.01134111,  0.01996336,  0.02787027, -0.04714117, -0.05198164,\n",
       "       -0.02500892,  0.02221724, -0.079062  ,  0.01837583,  0.03457611,\n",
       "        0.13048233, -0.06731659,  0.020221  , -0.05894107, -0.00918363,\n",
       "        0.06769336,  0.09033087,  0.13428234,  0.02842295,  0.09028544,\n",
       "       -0.06185293, -0.04030589, -0.11185527, -0.01389695, -0.05867941,\n",
       "        0.04924538, -0.01998544, -0.00255985,  0.08157858,  0.03989211,\n",
       "        0.02309393, -0.05822608, -0.02368595,  0.02993208,  0.0644683 ,\n",
       "       -0.05595275,  0.05409642, -0.11405333,  0.00312885, -0.10418902,\n",
       "       -0.0367443 ,  0.00490854, -0.03130596,  0.03907832, -0.00813656], dtype=float32)"
      ]
     },
     "execution_count": 49,
     "metadata": {},
     "output_type": "execute_result"
    }
   ],
   "source": [
    "X_train_word_average[0]"
   ]
  },
  {
   "cell_type": "markdown",
   "metadata": {},
   "source": [
    "**Further exploration of word2vec generated vectors**\n",
    "\n",
    "Some tips here: https://radimrehurek.com/gensim/models/keyedvectors.html"
   ]
  },
  {
   "cell_type": "code",
   "execution_count": 51,
   "metadata": {},
   "outputs": [
    {
     "data": {
      "text/plain": [
       "array([  7.44407773e-02,   5.99248260e-02,  -1.14452699e-02,\n",
       "        -9.60286036e-02,  -6.58800900e-02,   8.22570622e-02,\n",
       "         3.55454721e-02,  -1.34923914e-02,   6.36468679e-02,\n",
       "         9.82618257e-02,  -4.52227741e-02,  -9.44467355e-03,\n",
       "        -3.59176770e-02,   4.80143018e-02,  -3.16373296e-02,\n",
       "         5.06197289e-02,   7.18353540e-02,   1.92615520e-02,\n",
       "         2.38210484e-02,  -8.88636801e-03,  -2.18669791e-02,\n",
       "         8.93289372e-02,   1.46090025e-02,   1.07008619e-02,\n",
       "         1.19105242e-01,   4.76420969e-02,   7.58365449e-03,\n",
       "         1.37715442e-02,   9.04455483e-02,  -5.84360100e-02,\n",
       "         6.21580519e-02,  -3.23817395e-02,   5.54583818e-02,\n",
       "         9.49119963e-03,   1.11661166e-01,  -8.33736733e-02,\n",
       "         9.67730135e-02,   3.25678401e-02,  -3.85231040e-02,\n",
       "         4.24312428e-02,   3.77786942e-02,  -1.43298497e-02,\n",
       "        -7.67670525e-03,  -8.52346942e-02,  -5.21085449e-02,\n",
       "        -1.04961500e-01,  -4.42922637e-02,   3.59176770e-02,\n",
       "        -7.22075552e-02,  -5.95526211e-03,  -7.36963674e-02,\n",
       "        -1.39576457e-02,  -2.73569860e-02,  -1.12126423e-02,\n",
       "        -1.58186648e-02,   2.47515589e-02,  -1.17709478e-02,\n",
       "        -4.24312428e-02,   5.69471940e-02,  -8.85845274e-02,\n",
       "         4.59671803e-02,   9.97506455e-02,  -1.01983868e-01,\n",
       "         2.40071509e-02,  -6.69967011e-02,  -1.97268073e-02,\n",
       "        -1.98198576e-02,   7.02534849e-03,  -1.47951050e-02,\n",
       "        -6.68803870e-04,  -1.95407048e-02,  -4.35478538e-02,\n",
       "         1.74935833e-02,   6.77411109e-02,  -1.39204249e-01,\n",
       "         3.46614886e-03,   1.35854417e-02,   9.52841938e-02,\n",
       "         2.38210484e-02,   1.24316104e-01,   4.03841212e-02,\n",
       "         1.24316104e-01,   1.98198576e-02,   1.07939132e-01,\n",
       "         8.70026555e-03,  -7.33241662e-02,  -6.62522912e-02,\n",
       "         1.56325642e-02,  -1.26549322e-02,   4.20590416e-02,\n",
       "         1.28410347e-02,   4.03841212e-02,  -6.62522912e-02,\n",
       "        -1.85171440e-02,  -5.44348173e-03,   1.74935833e-02,\n",
       "         3.36844511e-02,  -6.21580519e-02,  -5.91804199e-02,\n",
       "         6.79272087e-03,   6.84855133e-02,   1.22827284e-01,\n",
       "        -6.25302568e-02,   7.10909441e-02,   5.13641387e-02,\n",
       "        -1.58186648e-02,   1.37715444e-01,  -6.40190691e-02,\n",
       "         3.74064930e-02,  -4.87587117e-02,   6.81133121e-02,\n",
       "        -7.63017982e-02,   4.01980206e-02,  -3.12651284e-02,\n",
       "         3.74064930e-02,  -5.69471940e-02,   1.87590763e-01,\n",
       "        -1.45903930e-01,   4.57810797e-02,   3.21956351e-02,\n",
       "        -9.15621594e-02,   4.48505692e-02,   8.04890878e-03,\n",
       "        -1.42367985e-02,  -4.70837913e-02,  -1.21338472e-01,\n",
       "        -2.75430884e-02,  -8.93289372e-02,  -4.31756526e-02,\n",
       "        -4.41061631e-02,  -4.15007323e-02,   1.50742577e-02,\n",
       "        -8.03960413e-02,   1.12405576e-01,  -3.65225063e-03,\n",
       "        -2.67986804e-02,  -5.91804199e-02,   1.87590763e-01,\n",
       "        -6.81133121e-02,   4.76420969e-02,  -3.10790259e-02,\n",
       "         8.56068954e-02,  -2.77291909e-02,   3.21956351e-02,\n",
       "        -1.44229010e-02,   9.81396952e-05,  -1.02728277e-01,\n",
       "         6.77411109e-02,  -8.00238363e-03,  -2.00990103e-02,\n",
       "         6.84855133e-02,   2.01920606e-02,   1.26549322e-02,\n",
       "         4.91309129e-02,   3.32948024e-04,  -3.05207185e-02,\n",
       "        -9.00733396e-02,   3.39636044e-03,   2.28905398e-02,\n",
       "         5.28529510e-02,  -4.48505692e-02,   4.11285311e-02,\n",
       "         7.55573884e-02,   4.83865058e-03,   4.87587117e-02,\n",
       "        -5.28529510e-02,   1.21896779e-02,  -1.00029800e-02,\n",
       "         6.14136420e-02,  -4.76420969e-02,  -5.88082150e-02,\n",
       "        -6.73689023e-02,   4.18729372e-02,  -2.79152915e-02,\n",
       "         1.45159522e-02,   1.55395130e-02,  -6.83924649e-03,\n",
       "        -3.31494084e-04,  -6.17858469e-02,  -2.71708835e-02,\n",
       "         1.34923914e-02,  -8.00238363e-03,   1.28410347e-02,\n",
       "         8.74679163e-02,  -5.91804199e-02,  -4.91309129e-02,\n",
       "        -7.55573884e-02,   1.42181888e-01,  -6.32746592e-02,\n",
       "        -6.66244999e-02,   1.27479834e-02,  -1.40739593e-03,\n",
       "        -4.44783643e-02,  -4.35013277e-03,   7.25797564e-02,\n",
       "         1.99129079e-02,   5.95526211e-03,  -1.38645954e-02,\n",
       "        -5.65749928e-02,   5.28529510e-02,  -1.54464617e-02,\n",
       "        -4.13146317e-02,  -1.48881553e-02,  -1.34737805e-01,\n",
       "         4.37339582e-02,   2.15180381e-03,  -7.48129860e-02,\n",
       "         6.25302568e-02,   3.85231040e-02,   2.88458019e-02,\n",
       "         3.18234339e-02,  -3.38705555e-02,   9.11899507e-02,\n",
       "        -4.28034477e-02,  -6.32746592e-02,  -3.83369997e-02,\n",
       "         6.29024580e-02,   6.40190691e-02,  -4.22451422e-02,\n",
       "         1.10730659e-02,  -1.30271362e-02,  -1.35854417e-02,\n",
       "        -5.65749928e-02,   1.10172354e-01,   8.30014646e-02,\n",
       "        -3.23817395e-02,   7.44407773e-02,  -1.69352777e-02,\n",
       "         4.98753227e-02,   1.60047673e-02,  -1.90754491e-03,\n",
       "        -3.83369997e-02,   2.25183349e-02,   8.63513052e-02,\n",
       "         3.83369997e-02,  -3.72203887e-02,   4.42922637e-02,\n",
       "        -1.19105242e-01,  -6.36468679e-02,   4.80143018e-02,\n",
       "        -2.49376614e-02,  -9.11899507e-02,   9.97506455e-02,\n",
       "        -1.42367985e-02,  -8.11404511e-02,  -5.35973608e-02,\n",
       "        -1.49812065e-02,   8.11404511e-02,  -2.56820694e-02,\n",
       "         2.97763105e-02,  -3.72203887e-02,   2.97763105e-02,\n",
       "         9.04455483e-02,   1.20035755e-02,  -2.15878263e-02,\n",
       "        -8.11404511e-02,   2.10295208e-02,   2.47515589e-02,\n",
       "         2.99624130e-02,   6.73689023e-02,  -7.03465343e-02,\n",
       "         9.90062356e-02,  -1.38645954e-02,   1.04217090e-01,\n",
       "         3.44288610e-02,   2.26113871e-02,  -4.76420969e-02,\n",
       "         1.72144305e-02,   1.74935833e-02,   3.03346179e-02,\n",
       "         2.43793558e-02,   6.99743330e-02,   6.69967011e-02,\n",
       "        -4.91309129e-02,  -8.56068917e-03,  -6.40190691e-02,\n",
       "         9.95645393e-03,   3.29400450e-02,   1.64700225e-02,\n",
       "         1.47951050e-02,   7.85350204e-02,  -4.46644686e-02,\n",
       "        -9.52841938e-02,   7.18353540e-02,  -1.87962968e-02,\n",
       "        -3.40566561e-02,  -9.81687754e-03,   6.17858469e-02,\n",
       "         3.68481837e-02,  -7.66739994e-02,   1.25618810e-02,\n",
       "         1.31201874e-02,   1.02821328e-02,  -2.25183349e-02,\n",
       "        -3.04741948e-03,  -9.81687754e-03,  -6.47634789e-02,\n",
       "         5.28529510e-02,   4.72698957e-02,  -8.46763887e-03], dtype=float32)"
      ]
     },
     "execution_count": 51,
     "metadata": {},
     "output_type": "execute_result"
    }
   ],
   "source": [
    "### obtain vector for a specific word\n",
    "wv.syn0norm[wv.vocab['unhappy'].index] # (300,)"
   ]
  },
  {
   "cell_type": "markdown",
   "metadata": {},
   "source": [
    "Other fun operations you can do with word2vec model"
   ]
  },
  {
   "cell_type": "code",
   "execution_count": 52,
   "metadata": {},
   "outputs": [
    {
     "data": {
      "text/plain": [
       "[('queen', 0.7118191719055176),\n",
       " ('monarch', 0.6189674139022827),\n",
       " ('princess', 0.5902431011199951),\n",
       " ('crown_prince', 0.5499460697174072),\n",
       " ('prince', 0.5377321243286133),\n",
       " ('kings', 0.5236844420433044),\n",
       " ('Queen_Consort', 0.5235945582389832),\n",
       " ('queens', 0.5181134343147278),\n",
       " ('sultan', 0.5098593235015869),\n",
       " ('monarchy', 0.5087411403656006)]"
      ]
     },
     "execution_count": 52,
     "metadata": {},
     "output_type": "execute_result"
    }
   ],
   "source": [
    "wv.most_similar(positive=['woman', 'king'], negative=['man'])"
   ]
  },
  {
   "cell_type": "code",
   "execution_count": 53,
   "metadata": {},
   "outputs": [
    {
     "data": {
      "text/plain": [
       "[('Republican', 0.571267306804657),\n",
       " ('Republicans', 0.5465080738067627),\n",
       " ('Donald_Trump', 0.5382609367370605),\n",
       " ('Gingrich', 0.5238125324249268),\n",
       " ('Palin', 0.5126574635505676),\n",
       " ('Santorum', 0.4977916479110718),\n",
       " ('Dems', 0.49728360772132874),\n",
       " ('Democratic', 0.49602842330932617),\n",
       " ('GOPers', 0.49341505765914917),\n",
       " ('Democrats', 0.4912267029285431)]"
      ]
     },
     "execution_count": 53,
     "metadata": {},
     "output_type": "execute_result"
    }
   ],
   "source": [
    "wv.most_similar(positive=['GOP', 'Trump'], negative=['money'])"
   ]
  },
  {
   "cell_type": "markdown",
   "metadata": {},
   "source": [
    "**Exercise:** Try to research mode about the intuition behind these operations and try to come up with more interesting ones."
   ]
  },
  {
   "cell_type": "markdown",
   "metadata": {},
   "source": [
    "For fun, let us try to manually compute the cosine similarity of some of our word vectors, which is computed as follows:\n",
    "\n",
    "![alt txt](https://docs.google.com/drawings/d/1QI_5_uxopOYgk2PzU_RMTUGKkoNhJp81aIz4SUwsHIM/pub?w=956&h=263)"
   ]
  },
  {
   "cell_type": "code",
   "execution_count": 59,
   "metadata": {},
   "outputs": [
    {
     "data": {
      "text/plain": [
       "0.76924075586436913"
      ]
     },
     "execution_count": 59,
     "metadata": {},
     "output_type": "execute_result"
    }
   ],
   "source": [
    "word_embeddings.cosine_measure(wv.syn0norm[wv.vocab['gun'].index], wv.syn0norm[wv.vocab['pistol'].index])"
   ]
  },
  {
   "cell_type": "markdown",
   "metadata": {},
   "source": [
    "**Exercise:** Try to find cosine similarity between emotion related words. "
   ]
  },
  {
   "cell_type": "markdown",
   "metadata": {},
   "source": [
    "---"
   ]
  },
  {
   "cell_type": "markdown",
   "metadata": {},
   "source": [
    "### KNN Classification\n",
    "\n",
    "Now we train a KNN and a logistic regression classifier and observe how they perfom on these word-averaging document features\n",
    "\n",
    "Read about KNN- https://en.wikipedia.org/wiki/K-nearest_neighbors_algorithm\n",
    "\n",
    "![alt txt](https://docs.google.com/drawings/d/13xu1RP3pVem277_eT900af7iz_MvTQUrLoxzWAewb_o/pub?w=817&h=614)"
   ]
  },
  {
   "cell_type": "code",
   "execution_count": 60,
   "metadata": {},
   "outputs": [
    {
     "data": {
      "text/plain": [
       "KNeighborsClassifier(algorithm='brute', leaf_size=30, metric='cosine',\n",
       "           metric_params=None, n_jobs=1, n_neighbors=3, p=2,\n",
       "           weights='uniform')"
      ]
     },
     "execution_count": 60,
     "metadata": {},
     "output_type": "execute_result"
    }
   ],
   "source": [
    "### train model\n",
    "knn_naive_dv = KNeighborsClassifier(n_neighbors=3, n_jobs=1, algorithm='brute', metric='cosine' )\n",
    "knn_naive_dv.fit(X_train_word_average, train_data.emotion)"
   ]
  },
  {
   "cell_type": "code",
   "execution_count": 61,
   "metadata": {},
   "outputs": [],
   "source": [
    "### obtain predictions on test data\n",
    "predicted = knn_naive_dv.predict(X_test_word_average)"
   ]
  },
  {
   "cell_type": "code",
   "execution_count": 63,
   "metadata": {},
   "outputs": [
    {
     "name": "stdout",
     "output_type": "stream",
     "text": [
      "accuracy 0.394812680115\n",
      "confusion matrix\n",
      " [[38 29  9  8]\n",
      " [35 52 12 11]\n",
      " [20 19 29 11]\n",
      " [28 16 12 18]]\n",
      "(row=expected, col=predicted)\n"
     ]
    },
    {
     "data": {
      "image/png": "[encoded data removed]",
      "text/plain": [
       "<matplotlib.figure.Figure at 0x7fec15044c88>"
      ]
     },
     "metadata": {},
     "output_type": "display_data"
    }
   ],
   "source": [
    "### evaluate the model\n",
    "word_embeddings.evaluate_prediction(predicted, test_data.emotion, my_tags)"
   ]
  },
  {
   "cell_type": "markdown",
   "metadata": {},
   "source": [
    "You can see that K-Neareset Neighbour doesn't perform well when using the average vector representations (obtained from pretrained word2vec) of the text data. This is partly because the pretrained word2vec may not be helping with the task at hand. What if we train our own word2vec using our dataset? (We need a lot of data!)"
   ]
  },
  {
   "cell_type": "code",
   "execution_count": 64,
   "metadata": {},
   "outputs": [
    {
     "data": {
      "text/plain": [
       "\"I can't WAIT to go to work tomorrow with a high as fuck fever. [sarcasm]\\\\nHopefully I'll feel better tomorrow.\\\\nBut I doubt it. #pessimism\""
      ]
     },
     "execution_count": 64,
     "metadata": {},
     "output_type": "execute_result"
    }
   ],
   "source": [
    "test_data.iloc()[56]['text']"
   ]
  },
  {
   "cell_type": "code",
   "execution_count": 65,
   "metadata": {},
   "outputs": [
    {
     "data": {
      "text/plain": [
       "[('anyway', 0.6451989412307739),\n",
       " ('do', 0.637501060962677),\n",
       " ('just', 0.6333133578300476),\n",
       " ('maybe', 0.6231459379196167),\n",
       " ('guess', 0.6176087856292725),\n",
       " ('it', 0.614241361618042),\n",
       " ('suppose', 0.6105259656906128),\n",
       " ('so', 0.6092208623886108),\n",
       " ('think', 0.6042969822883606),\n",
       " (\"'ll\", 0.5944103002548218),\n",
       " ('want', 0.5808286666870117),\n",
       " ('probably', 0.5804653167724609),\n",
       " ('really', 0.5771951675415039),\n",
       " ('know', 0.576975405216217),\n",
       " ('going', 0.5763067603111267),\n",
       " ('yeah', 0.5684106349945068),\n",
       " ('I', 0.5659971237182617),\n",
       " ('go', 0.5607538223266602),\n",
       " ('even', 0.560643196105957),\n",
       " ('if', 0.5593100190162659)]"
      ]
     },
     "execution_count": 65,
     "metadata": {},
     "output_type": "execute_result"
    }
   ],
   "source": [
    "wv.most_similar(positive=[X_test_word_average[56]], restrict_vocab=100000, topn=30)[0:20]"
   ]
  },
  {
   "cell_type": "markdown",
   "metadata": {},
   "source": [
    "The problem with the result is that the average of this particular document falls under some area that is not related to the overall emotion portrayed by the original document."
   ]
  },
  {
   "cell_type": "markdown",
   "metadata": {},
   "source": [
    "**Exercise:** Try to remove stopwords. Try to figure out how you would achieve this using the current implementation of the *w2v_tokenize_text* function. Also, report the accuracy you achieved."
   ]
  },
  {
   "cell_type": "markdown",
   "metadata": {},
   "source": [
    "**Exercise:** Head on over to the Gensim website and figure out how to train a wordvec on your own using the gensim library. "
   ]
  },
  {
   "cell_type": "markdown",
   "metadata": {},
   "source": [
    "---"
   ]
  },
  {
   "cell_type": "markdown",
   "metadata": {},
   "source": [
    "### Doc2Vec\n",
    "Paper: https://cs.stanford.edu/~quocle/paragraph_vector.pdf\n",
    "It is a **semi-supervised** approach since a **weak label or tag** (you can put many) is introduced into training documents before modeling. Read more about semi-supervised appraoches here: https://en.wikipedia.org/wiki/Semi-supervised_learning"
   ]
  },
  {
   "cell_type": "markdown",
   "metadata": {},
   "source": [
    "![alt txt](https://docs.google.com/drawings/d/1TT6jNhk8rVoWMQajb8AIXCtyug0t_YVVZrvFidDPUPU/pub?w=679&h=375)"
   ]
  },
  {
   "cell_type": "code",
   "execution_count": 67,
   "metadata": {},
   "outputs": [],
   "source": [
    "from gensim.models import Doc2Vec\n",
    "from gensim.models.doc2vec import TaggedDocument"
   ]
  },
  {
   "cell_type": "code",
   "execution_count": 70,
   "metadata": {},
   "outputs": [],
   "source": [
    "### First we tag each text with its emotion\n",
    "train_tagged = train_data.apply(\n",
    "    lambda r: TaggedDocument(words=word_embeddings.tokenize_text(r['text']), tags=[r.emotion]), axis=1)"
   ]
  },
  {
   "cell_type": "code",
   "execution_count": 71,
   "metadata": {},
   "outputs": [],
   "source": [
    "test_tagged = test_data.apply(\n",
    "    lambda r: TaggedDocument(words=word_embeddings.tokenize_text(r['text']), tags=[r.emotion]), axis=1)"
   ]
  },
  {
   "cell_type": "code",
   "execution_count": 72,
   "metadata": {},
   "outputs": [
    {
     "data": {
      "text/plain": [
       "TaggedDocument(words=['chutneysupercat', 'hi', 'lovely', 'brownie', 'mm', 'is', 'calling', 'me', 'tuppytupperware..', 'its', 'awful'], tags=['fear'])"
      ]
     },
     "execution_count": 72,
     "metadata": {},
     "output_type": "execute_result"
    }
   ],
   "source": [
    "test_tagged.values[50]"
   ]
  },
  {
   "cell_type": "code",
   "execution_count": 73,
   "metadata": {},
   "outputs": [],
   "source": [
    "# transform into proper format\n",
    "trainsent = train_tagged.values\n",
    "testsent = test_tagged.values"
   ]
  },
  {
   "cell_type": "code",
   "execution_count": 75,
   "metadata": {},
   "outputs": [
    {
     "data": {
      "text/plain": [
       "array([ TaggedDocument(words=['recording', 'some', 'more', 'fnaf', 'and', 'had', 'to', 'facetime', 'my', 'mum', 'to', 'let', 'her', 'know', 'was', 'okay', 'after', 'let', 'out', 'high', 'pitched', 'scream', 'suchagirl'], tags=['fear']),\n",
       "       TaggedDocument(words=['darwinwatersons', 'pennyfitzger31', 'gumballwatter15', 'ok', 'but', 'why', 'tomorrow', 'horrible', 'day', 'my', 'day', 'was', 'great'], tags=['fear']),\n",
       "       TaggedDocument(words=['budget', 'car', 'rental', 'you', 'have', 'made', 'realize', 'why', 'always', 'use', 'nationalcares', 'what', 'nightmare', 'disgusted'], tags=['fear']),\n",
       "       ...,\n",
       "       TaggedDocument(words=['lennyabrahamson', 'may', 'send', 'you', 'copy', 'of', 'herothegreyhound', 'either', 'e-book', 'or', 'real', 'paper', 'one', 'boy', 'and', 'greyhound', 'smiles', 'tears'], tags=['joy']),\n",
       "       TaggedDocument(words=['regret', 'for', 'the', 'things', 'we', 'did', 'can', 'be', 'tempered', 'by', 'time', 'it', 'is', 'regret', 'for', 'the', 'things', 'we', 'did', 'not', 'do', 'that', 'is', 'inconsolable', 'sydney', 'j.', 'harris'], tags=['sadness']),\n",
       "       TaggedDocument(words=['sami_3499', 'oh', 'noooo', 'nomorehammocks', 'nightmare'], tags=['fear'])], dtype=object)"
      ]
     },
     "execution_count": 75,
     "metadata": {},
     "output_type": "execute_result"
    }
   ],
   "source": [
    "trainsent"
   ]
  },
  {
   "cell_type": "code",
   "execution_count": 76,
   "metadata": {},
   "outputs": [
    {
     "name": "stderr",
     "output_type": "stream",
     "text": [
      "2017-11-19 23:12:39,197 : WARNING : consider setting layer size to a multiple of 4 for greater performance\n",
      "2017-11-19 23:12:39,198 : INFO : collecting all words and their counts\n",
      "2017-11-19 23:12:39,198 : INFO : PROGRESS: at example #0, processed 0 words (0/s), 0 word types, 0 tags\n",
      "2017-11-19 23:12:39,219 : INFO : collected 10719 word types and 4 unique tags from a corpus of 3613 examples and 56393 words\n",
      "2017-11-19 23:12:39,220 : INFO : Loading a fresh vocabulary\n",
      "2017-11-19 23:12:39,225 : INFO : min_count=5 retains 1361 unique words (12% of original 10719, drops 9358)\n",
      "2017-11-19 23:12:39,225 : INFO : min_count=5 leaves 42365 word corpus (75% of original 56393, drops 14028)\n",
      "2017-11-19 23:12:39,228 : INFO : deleting the raw counts dictionary of 10719 items\n",
      "2017-11-19 23:12:39,229 : INFO : sample=0.001 downsamples 63 most-common words\n",
      "2017-11-19 23:12:39,230 : INFO : downsampling leaves estimated 31357 word corpus (74.0% of prior 42365)\n",
      "2017-11-19 23:12:39,230 : INFO : estimated required memory for 1361 words and 5 dimensions: 735820 bytes\n",
      "2017-11-19 23:12:39,233 : INFO : resetting layer weights\n",
      "2017-11-19 23:12:39,246 : INFO : training model with 1 workers on 1361 vocabulary and 5 features, using sg=0 hs=0 sample=0.001 negative=5 window=5\n",
      "2017-11-19 23:12:40,261 : INFO : PROGRESS: at 65.57% examples, 452991 words/s, in_qsize 2, out_qsize 0\n",
      "2017-11-19 23:12:40,791 : INFO : worker thread finished; awaiting finish of 0 more threads\n",
      "2017-11-19 23:12:40,791 : INFO : training on 1127860 raw words (699604 effective words) took 1.5s, 453417 effective words/s\n"
     ]
    }
   ],
   "source": [
    "# train the model with simple gensim doc2vec api\n",
    "# size (dimensions of features)\n",
    "# dm is the training algorithm (distribute memory (1) or distributed bag of words)\n",
    "doc2vec_model = Doc2Vec(trainsent, workers=1, size=5, iter=20, dm=1)\n",
    "\n",
    "train_targets, train_regressors = zip(\n",
    "    *[(doc.tags[0], doc2vec_model.infer_vector(doc.words, steps=20)) for doc in trainsent])"
   ]
  },
  {
   "cell_type": "code",
   "execution_count": 77,
   "metadata": {},
   "outputs": [],
   "source": [
    "test_targets, test_regressors = zip(\n",
    "    *[(doc.tags[0], doc2vec_model.infer_vector(doc.words, steps=20)) for doc in testsent])"
   ]
  },
  {
   "cell_type": "markdown",
   "metadata": {},
   "source": [
    "Let us see what our data looks like after training and transormations"
   ]
  },
  {
   "cell_type": "code",
   "execution_count": 79,
   "metadata": {},
   "outputs": [
    {
     "data": {
      "text/plain": [
       "('fear', 'anger', 'sadness', 'joy', 'fear')"
      ]
     },
     "execution_count": 79,
     "metadata": {},
     "output_type": "execute_result"
    }
   ],
   "source": [
    "test_targets[0:5]"
   ]
  },
  {
   "cell_type": "code",
   "execution_count": 80,
   "metadata": {},
   "outputs": [
    {
     "data": {
      "text/plain": [
       "(array([-0.39524838, -0.08373364, -0.14480482,  0.27350155,  0.20739011], dtype=float32),\n",
       " array([-0.37708506, -0.2205207 ,  0.30018979,  0.21298207, -0.10291009], dtype=float32),\n",
       " array([-0.10260689,  0.04069313,  0.1139339 ,  0.16602848, -0.02557355], dtype=float32),\n",
       " array([-0.4432691 ,  0.125214  , -0.04396084,  0.25234041,  0.12425233], dtype=float32),\n",
       " array([ 0.09505802,  0.09512238, -0.03159134,  0.17345698,  0.09683908], dtype=float32))"
      ]
     },
     "execution_count": 80,
     "metadata": {},
     "output_type": "execute_result"
    }
   ],
   "source": [
    "test_regressors[0:5]"
   ]
  },
  {
   "cell_type": "code",
   "execution_count": 82,
   "metadata": {},
   "outputs": [],
   "source": [
    "# train a logistic regression model\n",
    "d2v_model = linear_model.LogisticRegression(n_jobs=1, C=1e5)\n",
    "d2v_model = d2v_model.fit(train_regressors, train_targets)"
   ]
  },
  {
   "cell_type": "code",
   "execution_count": 83,
   "metadata": {},
   "outputs": [
    {
     "name": "stdout",
     "output_type": "stream",
     "text": [
      "accuracy 0.590778097983\n",
      "confusion matrix\n",
      " [[40 25  9 10]\n",
      " [15 77 11  7]\n",
      " [ 6 14 50  9]\n",
      " [10 16 10 38]]\n",
      "(row=expected, col=predicted)\n"
     ]
    },
    {
     "data": {
      "image/png": "[encoded data removed]",
      "text/plain": [
       "<matplotlib.figure.Figure at 0x7fec141ce2e8>"
      ]
     },
     "metadata": {},
     "output_type": "display_data"
    }
   ],
   "source": [
    "word_embeddings.evaluate_prediction(d2v_model.predict(test_regressors), test_targets, my_tags,title=str(doc2vec_model))"
   ]
  },
  {
   "cell_type": "markdown",
   "metadata": {},
   "source": [
    "Now let us train KNN model with doc2vec."
   ]
  },
  {
   "cell_type": "code",
   "execution_count": 85,
   "metadata": {},
   "outputs": [
    {
     "name": "stderr",
     "output_type": "stream",
     "text": [
      "2017-11-19 23:15:05,294 : INFO : precomputing L2-norms of doc weight vectors\n"
     ]
    },
    {
     "name": "stdout",
     "output_type": "stream",
     "text": [
      "accuracy 0.590778097983\n",
      "confusion matrix\n",
      " [[38 18 15 13]\n",
      " [14 72 15  9]\n",
      " [ 6 10 54  9]\n",
      " [ 6 11 16 41]]\n",
      "(row=expected, col=predicted)\n"
     ]
    },
    {
     "data": {
      "image/png": "[encoded data removed]",
      "text/plain": [
       "<matplotlib.figure.Figure at 0x7fed0b417eb8>"
      ]
     },
     "metadata": {},
     "output_type": "display_data"
    }
   ],
   "source": [
    "knn_test_predictions = [\n",
    "    doc2vec_model.docvecs.most_similar([pred_vec], topn=1)[0][0]\n",
    "    for pred_vec in test_regressors\n",
    "]\n",
    "word_embeddings.evaluate_prediction(knn_test_predictions, test_targets,my_tags, str(doc2vec_model))"
   ]
  },
  {
   "cell_type": "markdown",
   "metadata": {},
   "source": [
    "Since doc2vec also gives us a vector for each genre, we can also observe which genres are similar to each other"
   ]
  },
  {
   "cell_type": "code",
   "execution_count": 86,
   "metadata": {},
   "outputs": [
    {
     "data": {
      "text/plain": [
       "[('sadness', 0.2729802429676056),\n",
       " ('fear', 0.247198224067688),\n",
       " ('joy', 0.2352927327156067)]"
      ]
     },
     "execution_count": 86,
     "metadata": {},
     "output_type": "execute_result"
    }
   ],
   "source": [
    "doc2vec_model.docvecs.most_similar('anger')"
   ]
  },
  {
   "cell_type": "code",
   "execution_count": 87,
   "metadata": {},
   "outputs": [
    {
     "data": {
      "text/plain": [
       "[('sadness', 0.3019334375858307),\n",
       " ('anger', 0.2471982091665268),\n",
       " ('joy', 0.23824873566627502)]"
      ]
     },
     "execution_count": 87,
     "metadata": {},
     "output_type": "execute_result"
    }
   ],
   "source": [
    "doc2vec_model.docvecs.most_similar('fear')"
   ]
  },
  {
   "cell_type": "markdown",
   "metadata": {},
   "source": [
    "Since words and categories fall in the same vector space, it is possible to also observe which words sorround a tag. Notice how well those words describe the tag."
   ]
  },
  {
   "cell_type": "code",
   "execution_count": 89,
   "metadata": {},
   "outputs": [
    {
     "data": {
      "text/plain": [
       "[('strength', 0.9957280158996582),\n",
       " ('gloomy', 0.978492021560669),\n",
       " ('beautiful', 0.9719856977462769),\n",
       " ('present', 0.9529615640640259),\n",
       " ('lol', 0.9487402439117432),\n",
       " ('thenicebot', 0.948267936706543),\n",
       " ('letting', 0.9436185359954834),\n",
       " ('haunt', 0.9382511377334595),\n",
       " ('accept', 0.9362047910690308),\n",
       " ('chirp', 0.9357328414916992)]"
      ]
     },
     "execution_count": 89,
     "metadata": {},
     "output_type": "execute_result"
    }
   ],
   "source": [
    "doc2vec_model.most_similar([doc2vec_model.docvecs['joy']])"
   ]
  },
  {
   "cell_type": "markdown",
   "metadata": {},
   "source": [
    "### Visualization\n",
    "We will visualize embeddings using a popular algorithm called T-SNE, which is very similar to the dimentionality reduction algorithm called PCA."
   ]
  },
  {
   "cell_type": "code",
   "execution_count": 90,
   "metadata": {},
   "outputs": [
    {
     "name": "stdout",
     "output_type": "stream",
     "text": [
      "Populating the interactive namespace from numpy and matplotlib\n"
     ]
    }
   ],
   "source": [
    "%pylab inline\n",
    "pylab.rcParams['figure.figsize'] = (15, 10)"
   ]
  },
  {
   "cell_type": "code",
   "execution_count": 92,
   "metadata": {},
   "outputs": [],
   "source": [
    "### unpacking words from the dco2vec model trained\n",
    "doc2vec_words = word2vec_helpers.unpack_words_from_doc_vector(doc2vec_model)"
   ]
  },
  {
   "cell_type": "code",
   "execution_count": 93,
   "metadata": {},
   "outputs": [
    {
     "data": {
      "image/png": "[encoded data removed]",
      "text/plain": [
       "<matplotlib.figure.Figure at 0x7fec14993358>"
      ]
     },
     "metadata": {},
     "output_type": "display_data"
    }
   ],
   "source": [
    "word2vec_helpers.visualize_vectors(doc2vec_model, doc2vec_words)"
   ]
  },
  {
   "cell_type": "markdown",
   "metadata": {},
   "source": [
    "**Exercise:** Try to visualize words and find interesting clusters. There are so many creative ways to visualize these powerful vector representations. You can also try other type of classifiers and apply other improvements in the preprocessing stages."
   ]
  },
  {
   "cell_type": "code",
   "execution_count": null,
   "metadata": {},
   "outputs": [],
   "source": []
  }
 ],
 "metadata": {
  "kernelspec": {
   "display_name": "Python 3",
   "language": "python",
   "name": "python3"
  },
  "language_info": {
   "codemirror_mode": {
    "name": "ipython",
    "version": 3
   },
   "file_extension": ".py",
   "mimetype": "text/x-python",
   "name": "python",
   "nbconvert_exporter": "python",
   "pygments_lexer": "ipython3",
   "version": "3.6.1"
  }
 },
 "nbformat": 4,
 "nbformat_minor": 2
}
